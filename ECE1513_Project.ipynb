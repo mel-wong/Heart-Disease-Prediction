{
 "cells": [
  {
   "cell_type": "markdown",
   "id": "4043b896",
   "metadata": {},
   "source": [
    "**ECE1513 - Final Project**\\\n",
    "Melissa Wing Yee Wong, 997432568\n"
   ]
  },
  {
   "cell_type": "code",
   "execution_count": 2,
   "id": "46ce5991",
   "metadata": {},
   "outputs": [],
   "source": [
    "import numpy as np\n",
    "import pandas as pd\n",
    "\n",
    "# Load heart disease data set\n",
    "df = pd.read_csv('heart_2022_no_nans.csv')"
   ]
  },
  {
   "cell_type": "code",
   "execution_count": 3,
   "id": "e3e14409",
   "metadata": {},
   "outputs": [
    {
     "data": {
      "text/html": [
       "<div>\n",
       "<style scoped>\n",
       "    .dataframe tbody tr th:only-of-type {\n",
       "        vertical-align: middle;\n",
       "    }\n",
       "\n",
       "    .dataframe tbody tr th {\n",
       "        vertical-align: top;\n",
       "    }\n",
       "\n",
       "    .dataframe thead th {\n",
       "        text-align: right;\n",
       "    }\n",
       "</style>\n",
       "<table border=\"1\" class=\"dataframe\">\n",
       "  <thead>\n",
       "    <tr style=\"text-align: right;\">\n",
       "      <th></th>\n",
       "      <th>State</th>\n",
       "      <th>Sex</th>\n",
       "      <th>GeneralHealth</th>\n",
       "      <th>PhysicalHealthDays</th>\n",
       "      <th>MentalHealthDays</th>\n",
       "      <th>LastCheckupTime</th>\n",
       "      <th>PhysicalActivities</th>\n",
       "      <th>SleepHours</th>\n",
       "      <th>RemovedTeeth</th>\n",
       "      <th>HadHeartAttack</th>\n",
       "      <th>...</th>\n",
       "      <th>HeightInMeters</th>\n",
       "      <th>WeightInKilograms</th>\n",
       "      <th>BMI</th>\n",
       "      <th>AlcoholDrinkers</th>\n",
       "      <th>HIVTesting</th>\n",
       "      <th>FluVaxLast12</th>\n",
       "      <th>PneumoVaxEver</th>\n",
       "      <th>TetanusLast10Tdap</th>\n",
       "      <th>HighRiskLastYear</th>\n",
       "      <th>CovidPos</th>\n",
       "    </tr>\n",
       "  </thead>\n",
       "  <tbody>\n",
       "    <tr>\n",
       "      <th>0</th>\n",
       "      <td>Alabama</td>\n",
       "      <td>Female</td>\n",
       "      <td>Very good</td>\n",
       "      <td>4.0</td>\n",
       "      <td>0.0</td>\n",
       "      <td>Within past year (anytime less than 12 months ...</td>\n",
       "      <td>Yes</td>\n",
       "      <td>9.0</td>\n",
       "      <td>None of them</td>\n",
       "      <td>No</td>\n",
       "      <td>...</td>\n",
       "      <td>1.60</td>\n",
       "      <td>71.67</td>\n",
       "      <td>27.99</td>\n",
       "      <td>No</td>\n",
       "      <td>No</td>\n",
       "      <td>Yes</td>\n",
       "      <td>Yes</td>\n",
       "      <td>Yes, received Tdap</td>\n",
       "      <td>No</td>\n",
       "      <td>No</td>\n",
       "    </tr>\n",
       "    <tr>\n",
       "      <th>1</th>\n",
       "      <td>Alabama</td>\n",
       "      <td>Male</td>\n",
       "      <td>Very good</td>\n",
       "      <td>0.0</td>\n",
       "      <td>0.0</td>\n",
       "      <td>Within past year (anytime less than 12 months ...</td>\n",
       "      <td>Yes</td>\n",
       "      <td>6.0</td>\n",
       "      <td>None of them</td>\n",
       "      <td>No</td>\n",
       "      <td>...</td>\n",
       "      <td>1.78</td>\n",
       "      <td>95.25</td>\n",
       "      <td>30.13</td>\n",
       "      <td>No</td>\n",
       "      <td>No</td>\n",
       "      <td>Yes</td>\n",
       "      <td>Yes</td>\n",
       "      <td>Yes, received tetanus shot but not sure what type</td>\n",
       "      <td>No</td>\n",
       "      <td>No</td>\n",
       "    </tr>\n",
       "    <tr>\n",
       "      <th>2</th>\n",
       "      <td>Alabama</td>\n",
       "      <td>Male</td>\n",
       "      <td>Very good</td>\n",
       "      <td>0.0</td>\n",
       "      <td>0.0</td>\n",
       "      <td>Within past year (anytime less than 12 months ...</td>\n",
       "      <td>No</td>\n",
       "      <td>8.0</td>\n",
       "      <td>6 or more, but not all</td>\n",
       "      <td>No</td>\n",
       "      <td>...</td>\n",
       "      <td>1.85</td>\n",
       "      <td>108.86</td>\n",
       "      <td>31.66</td>\n",
       "      <td>Yes</td>\n",
       "      <td>No</td>\n",
       "      <td>No</td>\n",
       "      <td>Yes</td>\n",
       "      <td>No, did not receive any tetanus shot in the pa...</td>\n",
       "      <td>No</td>\n",
       "      <td>Yes</td>\n",
       "    </tr>\n",
       "    <tr>\n",
       "      <th>3</th>\n",
       "      <td>Alabama</td>\n",
       "      <td>Female</td>\n",
       "      <td>Fair</td>\n",
       "      <td>5.0</td>\n",
       "      <td>0.0</td>\n",
       "      <td>Within past year (anytime less than 12 months ...</td>\n",
       "      <td>Yes</td>\n",
       "      <td>9.0</td>\n",
       "      <td>None of them</td>\n",
       "      <td>No</td>\n",
       "      <td>...</td>\n",
       "      <td>1.70</td>\n",
       "      <td>90.72</td>\n",
       "      <td>31.32</td>\n",
       "      <td>No</td>\n",
       "      <td>No</td>\n",
       "      <td>Yes</td>\n",
       "      <td>Yes</td>\n",
       "      <td>No, did not receive any tetanus shot in the pa...</td>\n",
       "      <td>No</td>\n",
       "      <td>Yes</td>\n",
       "    </tr>\n",
       "    <tr>\n",
       "      <th>4</th>\n",
       "      <td>Alabama</td>\n",
       "      <td>Female</td>\n",
       "      <td>Good</td>\n",
       "      <td>3.0</td>\n",
       "      <td>15.0</td>\n",
       "      <td>Within past year (anytime less than 12 months ...</td>\n",
       "      <td>Yes</td>\n",
       "      <td>5.0</td>\n",
       "      <td>1 to 5</td>\n",
       "      <td>No</td>\n",
       "      <td>...</td>\n",
       "      <td>1.55</td>\n",
       "      <td>79.38</td>\n",
       "      <td>33.07</td>\n",
       "      <td>No</td>\n",
       "      <td>No</td>\n",
       "      <td>Yes</td>\n",
       "      <td>Yes</td>\n",
       "      <td>No, did not receive any tetanus shot in the pa...</td>\n",
       "      <td>No</td>\n",
       "      <td>No</td>\n",
       "    </tr>\n",
       "    <tr>\n",
       "      <th>...</th>\n",
       "      <td>...</td>\n",
       "      <td>...</td>\n",
       "      <td>...</td>\n",
       "      <td>...</td>\n",
       "      <td>...</td>\n",
       "      <td>...</td>\n",
       "      <td>...</td>\n",
       "      <td>...</td>\n",
       "      <td>...</td>\n",
       "      <td>...</td>\n",
       "      <td>...</td>\n",
       "      <td>...</td>\n",
       "      <td>...</td>\n",
       "      <td>...</td>\n",
       "      <td>...</td>\n",
       "      <td>...</td>\n",
       "      <td>...</td>\n",
       "      <td>...</td>\n",
       "      <td>...</td>\n",
       "      <td>...</td>\n",
       "      <td>...</td>\n",
       "    </tr>\n",
       "    <tr>\n",
       "      <th>246017</th>\n",
       "      <td>Virgin Islands</td>\n",
       "      <td>Male</td>\n",
       "      <td>Very good</td>\n",
       "      <td>0.0</td>\n",
       "      <td>0.0</td>\n",
       "      <td>Within past 2 years (1 year but less than 2 ye...</td>\n",
       "      <td>Yes</td>\n",
       "      <td>6.0</td>\n",
       "      <td>None of them</td>\n",
       "      <td>No</td>\n",
       "      <td>...</td>\n",
       "      <td>1.78</td>\n",
       "      <td>102.06</td>\n",
       "      <td>32.28</td>\n",
       "      <td>Yes</td>\n",
       "      <td>No</td>\n",
       "      <td>No</td>\n",
       "      <td>No</td>\n",
       "      <td>Yes, received tetanus shot but not sure what type</td>\n",
       "      <td>No</td>\n",
       "      <td>No</td>\n",
       "    </tr>\n",
       "    <tr>\n",
       "      <th>246018</th>\n",
       "      <td>Virgin Islands</td>\n",
       "      <td>Female</td>\n",
       "      <td>Fair</td>\n",
       "      <td>0.0</td>\n",
       "      <td>7.0</td>\n",
       "      <td>Within past year (anytime less than 12 months ...</td>\n",
       "      <td>Yes</td>\n",
       "      <td>7.0</td>\n",
       "      <td>None of them</td>\n",
       "      <td>No</td>\n",
       "      <td>...</td>\n",
       "      <td>1.93</td>\n",
       "      <td>90.72</td>\n",
       "      <td>24.34</td>\n",
       "      <td>No</td>\n",
       "      <td>No</td>\n",
       "      <td>No</td>\n",
       "      <td>No</td>\n",
       "      <td>No, did not receive any tetanus shot in the pa...</td>\n",
       "      <td>No</td>\n",
       "      <td>Yes</td>\n",
       "    </tr>\n",
       "    <tr>\n",
       "      <th>246019</th>\n",
       "      <td>Virgin Islands</td>\n",
       "      <td>Male</td>\n",
       "      <td>Good</td>\n",
       "      <td>0.0</td>\n",
       "      <td>15.0</td>\n",
       "      <td>Within past year (anytime less than 12 months ...</td>\n",
       "      <td>Yes</td>\n",
       "      <td>7.0</td>\n",
       "      <td>1 to 5</td>\n",
       "      <td>No</td>\n",
       "      <td>...</td>\n",
       "      <td>1.68</td>\n",
       "      <td>83.91</td>\n",
       "      <td>29.86</td>\n",
       "      <td>Yes</td>\n",
       "      <td>Yes</td>\n",
       "      <td>Yes</td>\n",
       "      <td>Yes</td>\n",
       "      <td>Yes, received tetanus shot but not sure what type</td>\n",
       "      <td>No</td>\n",
       "      <td>Yes</td>\n",
       "    </tr>\n",
       "    <tr>\n",
       "      <th>246020</th>\n",
       "      <td>Virgin Islands</td>\n",
       "      <td>Female</td>\n",
       "      <td>Excellent</td>\n",
       "      <td>2.0</td>\n",
       "      <td>2.0</td>\n",
       "      <td>Within past year (anytime less than 12 months ...</td>\n",
       "      <td>Yes</td>\n",
       "      <td>7.0</td>\n",
       "      <td>None of them</td>\n",
       "      <td>No</td>\n",
       "      <td>...</td>\n",
       "      <td>1.70</td>\n",
       "      <td>83.01</td>\n",
       "      <td>28.66</td>\n",
       "      <td>No</td>\n",
       "      <td>Yes</td>\n",
       "      <td>Yes</td>\n",
       "      <td>No</td>\n",
       "      <td>Yes, received tetanus shot but not sure what type</td>\n",
       "      <td>No</td>\n",
       "      <td>No</td>\n",
       "    </tr>\n",
       "    <tr>\n",
       "      <th>246021</th>\n",
       "      <td>Virgin Islands</td>\n",
       "      <td>Male</td>\n",
       "      <td>Very good</td>\n",
       "      <td>0.0</td>\n",
       "      <td>0.0</td>\n",
       "      <td>Within past year (anytime less than 12 months ...</td>\n",
       "      <td>No</td>\n",
       "      <td>5.0</td>\n",
       "      <td>None of them</td>\n",
       "      <td>Yes</td>\n",
       "      <td>...</td>\n",
       "      <td>1.83</td>\n",
       "      <td>108.86</td>\n",
       "      <td>32.55</td>\n",
       "      <td>No</td>\n",
       "      <td>Yes</td>\n",
       "      <td>Yes</td>\n",
       "      <td>Yes</td>\n",
       "      <td>No, did not receive any tetanus shot in the pa...</td>\n",
       "      <td>No</td>\n",
       "      <td>Yes</td>\n",
       "    </tr>\n",
       "  </tbody>\n",
       "</table>\n",
       "<p>246022 rows × 40 columns</p>\n",
       "</div>"
      ],
      "text/plain": [
       "                 State     Sex GeneralHealth  PhysicalHealthDays  \\\n",
       "0              Alabama  Female     Very good                 4.0   \n",
       "1              Alabama    Male     Very good                 0.0   \n",
       "2              Alabama    Male     Very good                 0.0   \n",
       "3              Alabama  Female          Fair                 5.0   \n",
       "4              Alabama  Female          Good                 3.0   \n",
       "...                ...     ...           ...                 ...   \n",
       "246017  Virgin Islands    Male     Very good                 0.0   \n",
       "246018  Virgin Islands  Female          Fair                 0.0   \n",
       "246019  Virgin Islands    Male          Good                 0.0   \n",
       "246020  Virgin Islands  Female     Excellent                 2.0   \n",
       "246021  Virgin Islands    Male     Very good                 0.0   \n",
       "\n",
       "        MentalHealthDays                                    LastCheckupTime  \\\n",
       "0                    0.0  Within past year (anytime less than 12 months ...   \n",
       "1                    0.0  Within past year (anytime less than 12 months ...   \n",
       "2                    0.0  Within past year (anytime less than 12 months ...   \n",
       "3                    0.0  Within past year (anytime less than 12 months ...   \n",
       "4                   15.0  Within past year (anytime less than 12 months ...   \n",
       "...                  ...                                                ...   \n",
       "246017               0.0  Within past 2 years (1 year but less than 2 ye...   \n",
       "246018               7.0  Within past year (anytime less than 12 months ...   \n",
       "246019              15.0  Within past year (anytime less than 12 months ...   \n",
       "246020               2.0  Within past year (anytime less than 12 months ...   \n",
       "246021               0.0  Within past year (anytime less than 12 months ...   \n",
       "\n",
       "       PhysicalActivities  SleepHours            RemovedTeeth HadHeartAttack  \\\n",
       "0                     Yes         9.0            None of them             No   \n",
       "1                     Yes         6.0            None of them             No   \n",
       "2                      No         8.0  6 or more, but not all             No   \n",
       "3                     Yes         9.0            None of them             No   \n",
       "4                     Yes         5.0                  1 to 5             No   \n",
       "...                   ...         ...                     ...            ...   \n",
       "246017                Yes         6.0            None of them             No   \n",
       "246018                Yes         7.0            None of them             No   \n",
       "246019                Yes         7.0                  1 to 5             No   \n",
       "246020                Yes         7.0            None of them             No   \n",
       "246021                 No         5.0            None of them            Yes   \n",
       "\n",
       "        ... HeightInMeters WeightInKilograms    BMI AlcoholDrinkers  \\\n",
       "0       ...           1.60             71.67  27.99              No   \n",
       "1       ...           1.78             95.25  30.13              No   \n",
       "2       ...           1.85            108.86  31.66             Yes   \n",
       "3       ...           1.70             90.72  31.32              No   \n",
       "4       ...           1.55             79.38  33.07              No   \n",
       "...     ...            ...               ...    ...             ...   \n",
       "246017  ...           1.78            102.06  32.28             Yes   \n",
       "246018  ...           1.93             90.72  24.34              No   \n",
       "246019  ...           1.68             83.91  29.86             Yes   \n",
       "246020  ...           1.70             83.01  28.66              No   \n",
       "246021  ...           1.83            108.86  32.55              No   \n",
       "\n",
       "       HIVTesting FluVaxLast12 PneumoVaxEver  \\\n",
       "0              No          Yes           Yes   \n",
       "1              No          Yes           Yes   \n",
       "2              No           No           Yes   \n",
       "3              No          Yes           Yes   \n",
       "4              No          Yes           Yes   \n",
       "...           ...          ...           ...   \n",
       "246017         No           No            No   \n",
       "246018         No           No            No   \n",
       "246019        Yes          Yes           Yes   \n",
       "246020        Yes          Yes            No   \n",
       "246021        Yes          Yes           Yes   \n",
       "\n",
       "                                        TetanusLast10Tdap HighRiskLastYear  \\\n",
       "0                                      Yes, received Tdap               No   \n",
       "1       Yes, received tetanus shot but not sure what type               No   \n",
       "2       No, did not receive any tetanus shot in the pa...               No   \n",
       "3       No, did not receive any tetanus shot in the pa...               No   \n",
       "4       No, did not receive any tetanus shot in the pa...               No   \n",
       "...                                                   ...              ...   \n",
       "246017  Yes, received tetanus shot but not sure what type               No   \n",
       "246018  No, did not receive any tetanus shot in the pa...               No   \n",
       "246019  Yes, received tetanus shot but not sure what type               No   \n",
       "246020  Yes, received tetanus shot but not sure what type               No   \n",
       "246021  No, did not receive any tetanus shot in the pa...               No   \n",
       "\n",
       "       CovidPos  \n",
       "0            No  \n",
       "1            No  \n",
       "2           Yes  \n",
       "3           Yes  \n",
       "4            No  \n",
       "...         ...  \n",
       "246017       No  \n",
       "246018      Yes  \n",
       "246019      Yes  \n",
       "246020       No  \n",
       "246021      Yes  \n",
       "\n",
       "[246022 rows x 40 columns]"
      ]
     },
     "execution_count": 3,
     "metadata": {},
     "output_type": "execute_result"
    }
   ],
   "source": [
    "df"
   ]
  },
  {
   "cell_type": "code",
   "execution_count": 9,
   "id": "fc6bda82",
   "metadata": {},
   "outputs": [],
   "source": [
    "# Set \"Had heart attack\" as the target variable\n",
    "index = df.columns.get_loc('HadHeartAttack')\n",
    "y = df.iloc[:,index].values"
   ]
  },
  {
   "cell_type": "code",
   "execution_count": 13,
   "id": "3867df07",
   "metadata": {},
   "outputs": [
    {
     "data": {
      "text/plain": [
       "(246022, 40)"
      ]
     },
     "execution_count": 13,
     "metadata": {},
     "output_type": "execute_result"
    }
   ],
   "source": [
    "df.shape"
   ]
  },
  {
   "cell_type": "code",
   "execution_count": 112,
   "id": "a1e69bb1",
   "metadata": {},
   "outputs": [],
   "source": [
    "# Set input variables X to be all other columns\n",
    "X = df.iloc[:,list(range(0,index))+list(range(index+1,40))].values"
   ]
  },
  {
   "cell_type": "code",
   "execution_count": 64,
   "id": "a3bd6580",
   "metadata": {},
   "outputs": [
    {
     "name": "stdout",
     "output_type": "stream",
     "text": [
      "Last checkup: ['Within past year (anytime less than 12 months ago)'\n",
      " '5 or more years ago'\n",
      " 'Within past 2 years (1 year but less than 2 years ago)'\n",
      " 'Within past 5 years (2 years but less than 5 years ago)']\n",
      "# of Teeth Removed: ['None of them' '6 or more, but not all' '1 to 5' 'All']\n",
      "Health: ['Very good' 'Fair' 'Good' 'Excellent' 'Poor']\n",
      "Tetanus Vaccine: ['Yes, received Tdap' 'Yes, received tetanus shot but not sure what type'\n",
      " 'No, did not receive any tetanus shot in the past 10 years'\n",
      " 'Yes, received tetanus shot, but not Tdap']\n"
     ]
    }
   ],
   "source": [
    "# Look at unique values for different input variables\n",
    "print(f\"Last checkup: {df['LastCheckupTime'].unique()}\")\n",
    "print(f\"# of Teeth Removed: {df['RemovedTeeth'].unique()}\")\n",
    "print(f\"Health: {df['GeneralHealth'].unique()}\")\n",
    "print(f\"Tetanus Vaccine: {df['TetanusLast10Tdap'].unique()}\")"
   ]
  },
  {
   "cell_type": "code",
   "execution_count": 31,
   "id": "4c019459",
   "metadata": {},
   "outputs": [
    {
     "data": {
      "text/plain": [
       "No     232587\n",
       "Yes     13435\n",
       "Name: HadHeartAttack, dtype: int64"
      ]
     },
     "execution_count": 31,
     "metadata": {},
     "output_type": "execute_result"
    }
   ],
   "source": [
    "# Explore data\n",
    "import matplotlib.pyplot as plt\n",
    "\n",
    "df[\"HadHeartAttack\"].value_counts()"
   ]
  },
  {
   "cell_type": "markdown",
   "id": "e6f80d68",
   "metadata": {},
   "source": [
    "This shows that the data set is unbalanced and will need to be balanced prior to training"
   ]
  },
  {
   "cell_type": "code",
   "execution_count": 37,
   "id": "0ef24d44",
   "metadata": {},
   "outputs": [
    {
     "data": {
      "text/plain": [
       "<matplotlib.collections.PathCollection at 0x25a82b8ac70>"
      ]
     },
     "execution_count": 37,
     "metadata": {},
     "output_type": "execute_result"
    },
    {
     "data": {
      "image/png": "[encoded data removed]",
      "text/plain": [
       "<Figure size 640x480 with 1 Axes>"
      ]
     },
     "metadata": {},
     "output_type": "display_data"
    }
   ],
   "source": [
    "# Visualize the data\n",
    "plt.scatter(df[\"PhysicalHealthDays\"],df[\"BMI\"])"
   ]
  },
  {
   "cell_type": "code",
   "execution_count": 39,
   "id": "331c1476",
   "metadata": {},
   "outputs": [],
   "source": [
    "#####################\n",
    "# Data Preprocessing\n",
    "#####################\n",
    "\n",
    "# Encode target variable\n",
    "\n",
    "y[y=='Yes']=1\n",
    "y[y=='No']=0"
   ]
  },
  {
   "cell_type": "code",
   "execution_count": 113,
   "id": "e6caf352",
   "metadata": {},
   "outputs": [],
   "source": [
    "# Encode yes/no categories to 1 and 0 respectively\n",
    "X[X=='Yes']=1\n",
    "X[X=='No']=0"
   ]
  },
  {
   "cell_type": "code",
   "execution_count": 115,
   "id": "57d3a16c",
   "metadata": {},
   "outputs": [],
   "source": [
    "# Remove states from dataset\n",
    "X=X[:,1:]"
   ]
  },
  {
   "cell_type": "code",
   "execution_count": 117,
   "id": "bf62d107",
   "metadata": {},
   "outputs": [
    {
     "data": {
      "text/plain": [
       "array([[1, 'Very good', 4.0, ..., 'Yes, received Tdap', 0, 0],\n",
       "       [0, 'Very good', 0.0, ...,\n",
       "        'Yes, received tetanus shot but not sure what type', 0, 0],\n",
       "       [0, 'Very good', 0.0, ...,\n",
       "        'No, did not receive any tetanus shot in the past 10 years', 0,\n",
       "        1],\n",
       "       ...,\n",
       "       [0, 'Good', 0.0, ...,\n",
       "        'Yes, received tetanus shot but not sure what type', 0, 1],\n",
       "       [1, 'Excellent', 2.0, ...,\n",
       "        'Yes, received tetanus shot but not sure what type', 0, 0],\n",
       "       [0, 'Very good', 0.0, ...,\n",
       "        'No, did not receive any tetanus shot in the past 10 years', 0,\n",
       "        1]], dtype=object)"
      ]
     },
     "execution_count": 117,
     "metadata": {},
     "output_type": "execute_result"
    }
   ],
   "source": [
    "# Encode gender with Female = 1, Male = 0\n",
    "X[X=='Female']=1\n",
    "X[X=='Male']=0\n",
    "X"
   ]
  },
  {
   "cell_type": "code",
   "execution_count": 118,
   "id": "4de780c2",
   "metadata": {},
   "outputs": [],
   "source": [
    "# Encode general health with one hot encoding\n",
    "ct = ColumnTransformer(transformers=[('encoder',OneHotEncoder(),[1])], remainder='passthrough')\n",
    "X = np.array(ct.fit_transform(X)) # Gen health is now columns [0-4]"
   ]
  },
  {
   "cell_type": "code",
   "execution_count": 122,
   "id": "9e42aedf",
   "metadata": {},
   "outputs": [],
   "source": [
    "# Encode last checkup with one hot encoding\n",
    "ct = ColumnTransformer(transformers=[('encoder',OneHotEncoder(),[8])], remainder='passthrough')\n",
    "X = np.array(ct.fit_transform(X)) # Checkup = columns [0-3], Gen health = columns [4-8]"
   ]
  },
  {
   "cell_type": "code",
   "execution_count": 124,
   "id": "be9e9ba8",
   "metadata": {},
   "outputs": [
    {
     "data": {
      "text/plain": [
       "array([[0.0, 0.0, 0.0, ..., 'Yes, received Tdap', 0, 0],\n",
       "       [0.0, 0.0, 0.0, ...,\n",
       "        'Yes, received tetanus shot but not sure what type', 0, 0],\n",
       "       [0.0, 1.0, 0.0, ...,\n",
       "        'No, did not receive any tetanus shot in the past 10 years', 0,\n",
       "        1],\n",
       "       ...,\n",
       "       [1.0, 0.0, 0.0, ...,\n",
       "        'Yes, received tetanus shot but not sure what type', 0, 1],\n",
       "       [0.0, 0.0, 0.0, ...,\n",
       "        'Yes, received tetanus shot but not sure what type', 0, 0],\n",
       "       [0.0, 0.0, 0.0, ...,\n",
       "        'No, did not receive any tetanus shot in the past 10 years', 0,\n",
       "        1]], dtype=object)"
      ]
     },
     "execution_count": 124,
     "metadata": {},
     "output_type": "execute_result"
    }
   ],
   "source": [
    "# Encode \"removedteeth\" with one hot encoding\n",
    "ct = ColumnTransformer(transformers=[('encoder',OneHotEncoder(),[14])], remainder='passthrough')\n",
    "X = np.array(ct.fit_transform(X)) # Teeth = cols [0-3],Checkup = columns [4-7], Gen health = columns [8-12]\n",
    "X"
   ]
  },
  {
   "cell_type": "code",
   "execution_count": 127,
   "id": "bc26cb3e",
   "metadata": {},
   "outputs": [],
   "source": [
    "# Encode smoker status with one hot encoding\n",
    "ct = ColumnTransformer(transformers=[('encoder',OneHotEncoder(),[33])], remainder='passthrough')\n",
    "X = np.array(ct.fit_transform(X)) # smoker= cols [0-3],Teeth = cols [4-7],Checkup = columns [8-11], Gen health = columns [12-16]"
   ]
  },
  {
   "cell_type": "code",
   "execution_count": 129,
   "id": "add9beae",
   "metadata": {},
   "outputs": [],
   "source": [
    "# Encode ecigarette status with one hot encoding\n",
    "ct = ColumnTransformer(transformers=[('encoder',OneHotEncoder(),[37])], remainder='passthrough')\n",
    "X = np.array(ct.fit_transform(X)) \n",
    "# E-cig = cols [0-3], smoker= cols [4-7],Teeth = cols [8-11],Checkup = columns [12-15], Gen health = columns [16-20]"
   ]
  },
  {
   "cell_type": "code",
   "execution_count": 131,
   "id": "e057fc6c",
   "metadata": {},
   "outputs": [],
   "source": [
    "# Encode ethnicity with one hot encoding\n",
    "ct = ColumnTransformer(transformers=[('encoder',OneHotEncoder(),[42])], remainder='passthrough')\n",
    "X = np.array(ct.fit_transform(X)) \n",
    "# Ethnicity = cols[0-4],E-cig = cols [5-8], smoker= cols [9-12],Teeth = cols [13-16],\n",
    "# Checkup = columns [17-20], Gen health = columns [20-24]"
   ]
  },
  {
   "cell_type": "code",
   "execution_count": 134,
   "id": "6b48a690",
   "metadata": {},
   "outputs": [],
   "source": [
    "# Encode age with one hot encoding\n",
    "ct = ColumnTransformer(transformers=[('encoder',OneHotEncoder(),[47])], remainder='passthrough')\n",
    "X = np.array(ct.fit_transform(X)) \n",
    "# Age= cols [0-12], Ethnicity = cols[13-17],E-cig = cols [18-21], smoker= cols [22-25],Teeth = cols [26-29],\n",
    "# Checkup = columns [30-33], Gen health = columns [34-38]"
   ]
  },
  {
   "cell_type": "code",
   "execution_count": 139,
   "id": "26ae20f0",
   "metadata": {},
   "outputs": [],
   "source": [
    "# Encode age with one hot encoding\n",
    "ct = ColumnTransformer(transformers=[('encoder',OneHotEncoder(),[67])], remainder='passthrough')\n",
    "X = np.array(ct.fit_transform(X)) \n",
    "# Tet = cols [0,3], Age= cols [4-16], Ethnicity = cols[17-21],E-cig = cols [22-25], smoker= cols [26-29],Teeth = cols [30-33],\n",
    "# Checkup = columns [34-37], Gen health = columns [38-42]"
   ]
  },
  {
   "cell_type": "code",
   "execution_count": 153,
   "id": "1f8510a5",
   "metadata": {},
   "outputs": [],
   "source": [
    "# Cleanup some outlier data\n",
    "X[X=='Yes, but only during pregnancy (female)']=1\n",
    "X[X=='No, pre-diabetes or borderline diabetes']=0\n",
    "X[X=='Tested positive using home test without a health professional']=1"
   ]
  },
  {
   "cell_type": "code",
   "execution_count": 154,
   "id": "bd2c6147",
   "metadata": {},
   "outputs": [],
   "source": [
    "# Split dataset into 80% training and 20% test set\n",
    "from sklearn.model_selection import train_test_split\n",
    "\n",
    "X_train, X_test, y_train, y_test = train_test_split(X,y,test_size=0.2,random_state=42)"
   ]
  },
  {
   "cell_type": "code",
   "execution_count": 155,
   "id": "2daf35f9",
   "metadata": {},
   "outputs": [],
   "source": [
    "# Standardize the features\n",
    "from sklearn.preprocessing import StandardScaler\n",
    "sc = StandardScaler()\n",
    "X_train = sc.fit_transform(X_train)\n",
    "X_test = sc.transform(X_test)"
   ]
  },
  {
   "cell_type": "code",
   "execution_count": 156,
   "id": "74fa84cf",
   "metadata": {},
   "outputs": [],
   "source": [
    "# Balance the training set by downsampling the data points corresponding to \"No heart attack\"\n",
    "\n",
    "# Combine the X and y training set\n",
    "train_set = np.column_stack((X_train,y_train))"
   ]
  },
  {
   "cell_type": "code",
   "execution_count": 157,
   "id": "eddd8bbd",
   "metadata": {},
   "outputs": [],
   "source": [
    "# Arrays to store data for respondents with and without heart attacks\n",
    "heart_attack = []\n",
    "no_heart_attack = []"
   ]
  },
  {
   "cell_type": "code",
   "execution_count": 158,
   "id": "90ca2305",
   "metadata": {},
   "outputs": [],
   "source": [
    "# Find corresponding data observations for heart attack and no heart attack patients\n",
    "for i in range(0,train_set.shape[0]):\n",
    "    if train_set[i][-1] == 0:\n",
    "        no_heart_attack.append(train_set[i])\n",
    "    else:\n",
    "        heart_attack.append(train_set[i])\n"
   ]
  },
  {
   "cell_type": "code",
   "execution_count": 160,
   "id": "107b4683",
   "metadata": {},
   "outputs": [],
   "source": [
    "heart_attack = np.array(heart_attack)\n",
    "no_heart_attack = np.array(no_heart_attack)"
   ]
  },
  {
   "cell_type": "code",
   "execution_count": 161,
   "id": "1cbc4371",
   "metadata": {},
   "outputs": [],
   "source": [
    "# Downsample the no heart attack observations\n",
    "\n",
    "from sklearn.utils import resample\n",
    "no_heart_down = resample(no_heart_attack,replace=False,n_samples=heart_attack.shape[0], random_state=42)"
   ]
  },
  {
   "cell_type": "code",
   "execution_count": 162,
   "id": "fe6dfa60",
   "metadata": {},
   "outputs": [],
   "source": [
    "# Add downsampled data back into the training set\n",
    "train_set_down = np.concatenate((heart_attack,no_heart_down),axis=0)"
   ]
  },
  {
   "cell_type": "code",
   "execution_count": 163,
   "id": "bfd541ec",
   "metadata": {},
   "outputs": [
    {
     "data": {
      "text/plain": [
       "(21606, 74)"
      ]
     },
     "execution_count": 163,
     "metadata": {},
     "output_type": "execute_result"
    }
   ],
   "source": [
    "train_set_down.shape"
   ]
  },
  {
   "cell_type": "code",
   "execution_count": 164,
   "id": "ba4a14fc",
   "metadata": {},
   "outputs": [
    {
     "data": {
      "text/plain": [
       "(21606, 73)"
      ]
     },
     "execution_count": 164,
     "metadata": {},
     "output_type": "execute_result"
    }
   ],
   "source": [
    "# Separate the downsampled X and y variables\n",
    "X_train_down = train_set_down[:,:-1]\n",
    "y_train_down = train_set_down[:,-1]\n",
    "X_train_down.shape"
   ]
  },
  {
   "cell_type": "code",
   "execution_count": 173,
   "id": "f6198cde",
   "metadata": {},
   "outputs": [],
   "source": [
    "y_train_down=y_train_down.astype('int')\n"
   ]
  },
  {
   "cell_type": "code",
   "execution_count": 181,
   "id": "72e63009",
   "metadata": {},
   "outputs": [],
   "source": [
    "y_test=y_test.astype('int')"
   ]
  },
  {
   "cell_type": "code",
   "execution_count": 182,
   "id": "4f6f3f65",
   "metadata": {},
   "outputs": [],
   "source": [
    "# Train KNN Model\n",
    "from sklearn.neighbors import KNeighborsClassifier\n",
    "from sklearn.metrics import accuracy_score\n",
    "\n",
    "def select_knn_model(k):\n",
    "    knn_clf = KNeighborsClassifier(n_neighbors=k, p=2)\n",
    "    knn_clf.fit(X_train_down,y_train_down)\n",
    "\n",
    "    #Evaluate on training and test set\n",
    "    knn_pred_test = knn_clf.predict(X_test)\n",
    "    knn_pred_train = knn_clf.predict(X_train_down)\n",
    "\n",
    "    #Evaluate accuracy\n",
    "    knn_train_accuracy = accuracy_score(y_train_down,knn_pred_train)\n",
    "    knn_test_accuracy = accuracy_score(y_test,knn_pred_test)\n",
    "\n",
    "    return [knn_train_accuracy,knn_test_accuracy]"
   ]
  },
  {
   "cell_type": "code",
   "execution_count": 183,
   "id": "5b4ca899",
   "metadata": {},
   "outputs": [],
   "source": [
    "# Matrix to store accuracy scores over different K values\n",
    "acc_matrix=[]"
   ]
  },
  {
   "cell_type": "code",
   "execution_count": 184,
   "id": "1d4a0d45",
   "metadata": {},
   "outputs": [],
   "source": [
    "# Loop KNN model over k of 1 to 20\n",
    "for i in range(1,21):\n",
    "    acc_i = select_knn_model(i)\n",
    "    acc_matrix.append(acc_i)"
   ]
  },
  {
   "cell_type": "code",
   "execution_count": 185,
   "id": "c2d31824",
   "metadata": {},
   "outputs": [
    {
     "data": {
      "text/plain": [
       "Text(0.5, 1.0, 'KNN Accuracy')"
      ]
     },
     "execution_count": 185,
     "metadata": {},
     "output_type": "execute_result"
    },
    {
     "data": {
      "image/png": "[encoded data removed]",
      "text/plain": [
       "<Figure size 640x480 with 1 Axes>"
      ]
     },
     "metadata": {},
     "output_type": "display_data"
    }
   ],
   "source": [
    "import matplotlib.pyplot as plt\n",
    "\n",
    "# Plot accuracy vs number of K neighbours\n",
    "plt.plot(range(1,21),[row[0] for row in acc_matrix],label='Training Accuracy')\n",
    "plt.plot(range(1,21),[row[1] for row in acc_matrix],label='Test Accuracy')\n",
    "plt.legend()\n",
    "plt.xticks(range(1,21))\n",
    "plt.xlabel('Number of Neighbours')\n",
    "plt.ylabel('Accuracy')\n",
    "plt.title('KNN Accuracy')"
   ]
  },
  {
   "cell_type": "markdown",
   "id": "6b846a82",
   "metadata": {},
   "source": [
    "From the graph above, a K value of 15 is deemed to be optimal."
   ]
  },
  {
   "cell_type": "code",
   "execution_count": 193,
   "id": "a4918682",
   "metadata": {},
   "outputs": [
    {
     "name": "stdout",
     "output_type": "stream",
     "text": [
      "KNN accuracy on training set: 0.8107007312783486\n",
      "KNN accuracy on test set: 0.8294482268062189\n"
     ]
    }
   ],
   "source": [
    "print(f\"KNN accuracy on training set: {acc_matrix[14][0]}\")\n",
    "print(f\"KNN accuracy on test set: {acc_matrix[14][1]}\")"
   ]
  },
  {
   "cell_type": "code",
   "execution_count": 189,
   "id": "67c93f17",
   "metadata": {},
   "outputs": [
    {
     "data": {
      "text/html": [
       "<style>#sk-container-id-2 {color: black;}#sk-container-id-2 pre{padding: 0;}#sk-container-id-2 div.sk-toggleable {background-color: white;}#sk-container-id-2 label.sk-toggleable__label {cursor: pointer;display: block;width: 100%;margin-bottom: 0;padding: 0.3em;box-sizing: border-box;text-align: center;}#sk-container-id-2 label.sk-toggleable__label-arrow:before {content: \"▸\";float: left;margin-right: 0.25em;color: #696969;}#sk-container-id-2 label.sk-toggleable__label-arrow:hover:before {color: black;}#sk-container-id-2 div.sk-estimator:hover label.sk-toggleable__label-arrow:before {color: black;}#sk-container-id-2 div.sk-toggleable__content {max-height: 0;max-width: 0;overflow: hidden;text-align: left;background-color: #f0f8ff;}#sk-container-id-2 div.sk-toggleable__content pre {margin: 0.2em;color: black;border-radius: 0.25em;background-color: #f0f8ff;}#sk-container-id-2 input.sk-toggleable__control:checked~div.sk-toggleable__content {max-height: 200px;max-width: 100%;overflow: auto;}#sk-container-id-2 input.sk-toggleable__control:checked~label.sk-toggleable__label-arrow:before {content: \"▾\";}#sk-container-id-2 div.sk-estimator input.sk-toggleable__control:checked~label.sk-toggleable__label {background-color: #d4ebff;}#sk-container-id-2 div.sk-label input.sk-toggleable__control:checked~label.sk-toggleable__label {background-color: #d4ebff;}#sk-container-id-2 input.sk-hidden--visually {border: 0;clip: rect(1px 1px 1px 1px);clip: rect(1px, 1px, 1px, 1px);height: 1px;margin: -1px;overflow: hidden;padding: 0;position: absolute;width: 1px;}#sk-container-id-2 div.sk-estimator {font-family: monospace;background-color: #f0f8ff;border: 1px dotted black;border-radius: 0.25em;box-sizing: border-box;margin-bottom: 0.5em;}#sk-container-id-2 div.sk-estimator:hover {background-color: #d4ebff;}#sk-container-id-2 div.sk-parallel-item::after {content: \"\";width: 100%;border-bottom: 1px solid gray;flex-grow: 1;}#sk-container-id-2 div.sk-label:hover label.sk-toggleable__label {background-color: #d4ebff;}#sk-container-id-2 div.sk-serial::before {content: \"\";position: absolute;border-left: 1px solid gray;box-sizing: border-box;top: 0;bottom: 0;left: 50%;z-index: 0;}#sk-container-id-2 div.sk-serial {display: flex;flex-direction: column;align-items: center;background-color: white;padding-right: 0.2em;padding-left: 0.2em;position: relative;}#sk-container-id-2 div.sk-item {position: relative;z-index: 1;}#sk-container-id-2 div.sk-parallel {display: flex;align-items: stretch;justify-content: center;background-color: white;position: relative;}#sk-container-id-2 div.sk-item::before, #sk-container-id-2 div.sk-parallel-item::before {content: \"\";position: absolute;border-left: 1px solid gray;box-sizing: border-box;top: 0;bottom: 0;left: 50%;z-index: -1;}#sk-container-id-2 div.sk-parallel-item {display: flex;flex-direction: column;z-index: 1;position: relative;background-color: white;}#sk-container-id-2 div.sk-parallel-item:first-child::after {align-self: flex-end;width: 50%;}#sk-container-id-2 div.sk-parallel-item:last-child::after {align-self: flex-start;width: 50%;}#sk-container-id-2 div.sk-parallel-item:only-child::after {width: 0;}#sk-container-id-2 div.sk-dashed-wrapped {border: 1px dashed gray;margin: 0 0.4em 0.5em 0.4em;box-sizing: border-box;padding-bottom: 0.4em;background-color: white;}#sk-container-id-2 div.sk-label label {font-family: monospace;font-weight: bold;display: inline-block;line-height: 1.2em;}#sk-container-id-2 div.sk-label-container {text-align: center;}#sk-container-id-2 div.sk-container {/* jupyter's `normalize.less` sets `[hidden] { display: none; }` but bootstrap.min.css set `[hidden] { display: none !important; }` so we also need the `!important` here to be able to override the default hidden behavior on the sphinx rendered scikit-learn.org. See: https://github.com/scikit-learn/scikit-learn/issues/21755 */display: inline-block !important;position: relative;}#sk-container-id-2 div.sk-text-repr-fallback {display: none;}</style><div id=\"sk-container-id-2\" class=\"sk-top-container\"><div class=\"sk-text-repr-fallback\"><pre>KNeighborsClassifier(n_neighbors=15)</pre><b>In a Jupyter environment, please rerun this cell to show the HTML representation or trust the notebook. <br />On GitHub, the HTML representation is unable to render, please try loading this page with nbviewer.org.</b></div><div class=\"sk-container\" hidden><div class=\"sk-item\"><div class=\"sk-estimator sk-toggleable\"><input class=\"sk-toggleable__control sk-hidden--visually\" id=\"sk-estimator-id-2\" type=\"checkbox\" checked><label for=\"sk-estimator-id-2\" class=\"sk-toggleable__label sk-toggleable__label-arrow\">KNeighborsClassifier</label><div class=\"sk-toggleable__content\"><pre>KNeighborsClassifier(n_neighbors=15)</pre></div></div></div></div></div>"
      ],
      "text/plain": [
       "KNeighborsClassifier(n_neighbors=15)"
      ]
     },
     "execution_count": 189,
     "metadata": {},
     "output_type": "execute_result"
    }
   ],
   "source": [
    "# Re-calculate KNN with final optimal K of 15\n",
    "knn_clf = KNeighborsClassifier(n_neighbors=15, p=2)\n",
    "knn_clf.fit(X_train_down,y_train_down)"
   ]
  },
  {
   "cell_type": "code",
   "execution_count": 190,
   "id": "a81a216a",
   "metadata": {},
   "outputs": [
    {
     "data": {
      "text/html": [
       "<style>#sk-container-id-3 {color: black;}#sk-container-id-3 pre{padding: 0;}#sk-container-id-3 div.sk-toggleable {background-color: white;}#sk-container-id-3 label.sk-toggleable__label {cursor: pointer;display: block;width: 100%;margin-bottom: 0;padding: 0.3em;box-sizing: border-box;text-align: center;}#sk-container-id-3 label.sk-toggleable__label-arrow:before {content: \"▸\";float: left;margin-right: 0.25em;color: #696969;}#sk-container-id-3 label.sk-toggleable__label-arrow:hover:before {color: black;}#sk-container-id-3 div.sk-estimator:hover label.sk-toggleable__label-arrow:before {color: black;}#sk-container-id-3 div.sk-toggleable__content {max-height: 0;max-width: 0;overflow: hidden;text-align: left;background-color: #f0f8ff;}#sk-container-id-3 div.sk-toggleable__content pre {margin: 0.2em;color: black;border-radius: 0.25em;background-color: #f0f8ff;}#sk-container-id-3 input.sk-toggleable__control:checked~div.sk-toggleable__content {max-height: 200px;max-width: 100%;overflow: auto;}#sk-container-id-3 input.sk-toggleable__control:checked~label.sk-toggleable__label-arrow:before {content: \"▾\";}#sk-container-id-3 div.sk-estimator input.sk-toggleable__control:checked~label.sk-toggleable__label {background-color: #d4ebff;}#sk-container-id-3 div.sk-label input.sk-toggleable__control:checked~label.sk-toggleable__label {background-color: #d4ebff;}#sk-container-id-3 input.sk-hidden--visually {border: 0;clip: rect(1px 1px 1px 1px);clip: rect(1px, 1px, 1px, 1px);height: 1px;margin: -1px;overflow: hidden;padding: 0;position: absolute;width: 1px;}#sk-container-id-3 div.sk-estimator {font-family: monospace;background-color: #f0f8ff;border: 1px dotted black;border-radius: 0.25em;box-sizing: border-box;margin-bottom: 0.5em;}#sk-container-id-3 div.sk-estimator:hover {background-color: #d4ebff;}#sk-container-id-3 div.sk-parallel-item::after {content: \"\";width: 100%;border-bottom: 1px solid gray;flex-grow: 1;}#sk-container-id-3 div.sk-label:hover label.sk-toggleable__label {background-color: #d4ebff;}#sk-container-id-3 div.sk-serial::before {content: \"\";position: absolute;border-left: 1px solid gray;box-sizing: border-box;top: 0;bottom: 0;left: 50%;z-index: 0;}#sk-container-id-3 div.sk-serial {display: flex;flex-direction: column;align-items: center;background-color: white;padding-right: 0.2em;padding-left: 0.2em;position: relative;}#sk-container-id-3 div.sk-item {position: relative;z-index: 1;}#sk-container-id-3 div.sk-parallel {display: flex;align-items: stretch;justify-content: center;background-color: white;position: relative;}#sk-container-id-3 div.sk-item::before, #sk-container-id-3 div.sk-parallel-item::before {content: \"\";position: absolute;border-left: 1px solid gray;box-sizing: border-box;top: 0;bottom: 0;left: 50%;z-index: -1;}#sk-container-id-3 div.sk-parallel-item {display: flex;flex-direction: column;z-index: 1;position: relative;background-color: white;}#sk-container-id-3 div.sk-parallel-item:first-child::after {align-self: flex-end;width: 50%;}#sk-container-id-3 div.sk-parallel-item:last-child::after {align-self: flex-start;width: 50%;}#sk-container-id-3 div.sk-parallel-item:only-child::after {width: 0;}#sk-container-id-3 div.sk-dashed-wrapped {border: 1px dashed gray;margin: 0 0.4em 0.5em 0.4em;box-sizing: border-box;padding-bottom: 0.4em;background-color: white;}#sk-container-id-3 div.sk-label label {font-family: monospace;font-weight: bold;display: inline-block;line-height: 1.2em;}#sk-container-id-3 div.sk-label-container {text-align: center;}#sk-container-id-3 div.sk-container {/* jupyter's `normalize.less` sets `[hidden] { display: none; }` but bootstrap.min.css set `[hidden] { display: none !important; }` so we also need the `!important` here to be able to override the default hidden behavior on the sphinx rendered scikit-learn.org. See: https://github.com/scikit-learn/scikit-learn/issues/21755 */display: inline-block !important;position: relative;}#sk-container-id-3 div.sk-text-repr-fallback {display: none;}</style><div id=\"sk-container-id-3\" class=\"sk-top-container\"><div class=\"sk-text-repr-fallback\"><pre>SVC(kernel=&#x27;sigmoid&#x27;, random_state=42)</pre><b>In a Jupyter environment, please rerun this cell to show the HTML representation or trust the notebook. <br />On GitHub, the HTML representation is unable to render, please try loading this page with nbviewer.org.</b></div><div class=\"sk-container\" hidden><div class=\"sk-item\"><div class=\"sk-estimator sk-toggleable\"><input class=\"sk-toggleable__control sk-hidden--visually\" id=\"sk-estimator-id-3\" type=\"checkbox\" checked><label for=\"sk-estimator-id-3\" class=\"sk-toggleable__label sk-toggleable__label-arrow\">SVC</label><div class=\"sk-toggleable__content\"><pre>SVC(kernel=&#x27;sigmoid&#x27;, random_state=42)</pre></div></div></div></div></div>"
      ],
      "text/plain": [
       "SVC(kernel='sigmoid', random_state=42)"
      ]
     },
     "execution_count": 190,
     "metadata": {},
     "output_type": "execute_result"
    }
   ],
   "source": [
    "# Try out SVM\n",
    "from sklearn.svm import SVC\n",
    "svm_clf = SVC(kernel='sigmoid',random_state = 42)\n",
    "svm_clf.fit(X_train_down,y_train_down)"
   ]
  },
  {
   "cell_type": "code",
   "execution_count": 191,
   "id": "d5338d19",
   "metadata": {},
   "outputs": [],
   "source": [
    "#Evaluate on training and test set\n",
    "svm_pred_test = svm_clf.predict(X_test)\n",
    "svm_pred_train = svm_clf.predict(X_train_down)\n",
    "\n",
    "#Evaluate accuracy\n",
    "svm_train_accuracy = accuracy_score(y_train_down,svm_pred_train)\n",
    "svm_test_accuracy = accuracy_score(y_test,svm_pred_test)"
   ]
  },
  {
   "cell_type": "code",
   "execution_count": 192,
   "id": "91e18690",
   "metadata": {},
   "outputs": [
    {
     "name": "stdout",
     "output_type": "stream",
     "text": [
      "SVM accuracy on the training set: 0.7434046098306026\n",
      "SVM accuracy on the test set: 0.7473021034447719\n"
     ]
    }
   ],
   "source": [
    "print(f\"SVM accuracy on the training set: {svm_train_accuracy}\")\n",
    "print(f\"SVM accuracy on the test set: {svm_test_accuracy}\")\n",
    "    "
   ]
  },
  {
   "cell_type": "code",
   "execution_count": 194,
   "id": "52798046",
   "metadata": {},
   "outputs": [
    {
     "data": {
      "text/html": [
       "<style>#sk-container-id-4 {color: black;}#sk-container-id-4 pre{padding: 0;}#sk-container-id-4 div.sk-toggleable {background-color: white;}#sk-container-id-4 label.sk-toggleable__label {cursor: pointer;display: block;width: 100%;margin-bottom: 0;padding: 0.3em;box-sizing: border-box;text-align: center;}#sk-container-id-4 label.sk-toggleable__label-arrow:before {content: \"▸\";float: left;margin-right: 0.25em;color: #696969;}#sk-container-id-4 label.sk-toggleable__label-arrow:hover:before {color: black;}#sk-container-id-4 div.sk-estimator:hover label.sk-toggleable__label-arrow:before {color: black;}#sk-container-id-4 div.sk-toggleable__content {max-height: 0;max-width: 0;overflow: hidden;text-align: left;background-color: #f0f8ff;}#sk-container-id-4 div.sk-toggleable__content pre {margin: 0.2em;color: black;border-radius: 0.25em;background-color: #f0f8ff;}#sk-container-id-4 input.sk-toggleable__control:checked~div.sk-toggleable__content {max-height: 200px;max-width: 100%;overflow: auto;}#sk-container-id-4 input.sk-toggleable__control:checked~label.sk-toggleable__label-arrow:before {content: \"▾\";}#sk-container-id-4 div.sk-estimator input.sk-toggleable__control:checked~label.sk-toggleable__label {background-color: #d4ebff;}#sk-container-id-4 div.sk-label input.sk-toggleable__control:checked~label.sk-toggleable__label {background-color: #d4ebff;}#sk-container-id-4 input.sk-hidden--visually {border: 0;clip: rect(1px 1px 1px 1px);clip: rect(1px, 1px, 1px, 1px);height: 1px;margin: -1px;overflow: hidden;padding: 0;position: absolute;width: 1px;}#sk-container-id-4 div.sk-estimator {font-family: monospace;background-color: #f0f8ff;border: 1px dotted black;border-radius: 0.25em;box-sizing: border-box;margin-bottom: 0.5em;}#sk-container-id-4 div.sk-estimator:hover {background-color: #d4ebff;}#sk-container-id-4 div.sk-parallel-item::after {content: \"\";width: 100%;border-bottom: 1px solid gray;flex-grow: 1;}#sk-container-id-4 div.sk-label:hover label.sk-toggleable__label {background-color: #d4ebff;}#sk-container-id-4 div.sk-serial::before {content: \"\";position: absolute;border-left: 1px solid gray;box-sizing: border-box;top: 0;bottom: 0;left: 50%;z-index: 0;}#sk-container-id-4 div.sk-serial {display: flex;flex-direction: column;align-items: center;background-color: white;padding-right: 0.2em;padding-left: 0.2em;position: relative;}#sk-container-id-4 div.sk-item {position: relative;z-index: 1;}#sk-container-id-4 div.sk-parallel {display: flex;align-items: stretch;justify-content: center;background-color: white;position: relative;}#sk-container-id-4 div.sk-item::before, #sk-container-id-4 div.sk-parallel-item::before {content: \"\";position: absolute;border-left: 1px solid gray;box-sizing: border-box;top: 0;bottom: 0;left: 50%;z-index: -1;}#sk-container-id-4 div.sk-parallel-item {display: flex;flex-direction: column;z-index: 1;position: relative;background-color: white;}#sk-container-id-4 div.sk-parallel-item:first-child::after {align-self: flex-end;width: 50%;}#sk-container-id-4 div.sk-parallel-item:last-child::after {align-self: flex-start;width: 50%;}#sk-container-id-4 div.sk-parallel-item:only-child::after {width: 0;}#sk-container-id-4 div.sk-dashed-wrapped {border: 1px dashed gray;margin: 0 0.4em 0.5em 0.4em;box-sizing: border-box;padding-bottom: 0.4em;background-color: white;}#sk-container-id-4 div.sk-label label {font-family: monospace;font-weight: bold;display: inline-block;line-height: 1.2em;}#sk-container-id-4 div.sk-label-container {text-align: center;}#sk-container-id-4 div.sk-container {/* jupyter's `normalize.less` sets `[hidden] { display: none; }` but bootstrap.min.css set `[hidden] { display: none !important; }` so we also need the `!important` here to be able to override the default hidden behavior on the sphinx rendered scikit-learn.org. See: https://github.com/scikit-learn/scikit-learn/issues/21755 */display: inline-block !important;position: relative;}#sk-container-id-4 div.sk-text-repr-fallback {display: none;}</style><div id=\"sk-container-id-4\" class=\"sk-top-container\"><div class=\"sk-text-repr-fallback\"><pre>DecisionTreeClassifier(random_state=42)</pre><b>In a Jupyter environment, please rerun this cell to show the HTML representation or trust the notebook. <br />On GitHub, the HTML representation is unable to render, please try loading this page with nbviewer.org.</b></div><div class=\"sk-container\" hidden><div class=\"sk-item\"><div class=\"sk-estimator sk-toggleable\"><input class=\"sk-toggleable__control sk-hidden--visually\" id=\"sk-estimator-id-4\" type=\"checkbox\" checked><label for=\"sk-estimator-id-4\" class=\"sk-toggleable__label sk-toggleable__label-arrow\">DecisionTreeClassifier</label><div class=\"sk-toggleable__content\"><pre>DecisionTreeClassifier(random_state=42)</pre></div></div></div></div></div>"
      ],
      "text/plain": [
       "DecisionTreeClassifier(random_state=42)"
      ]
     },
     "execution_count": 194,
     "metadata": {},
     "output_type": "execute_result"
    }
   ],
   "source": [
    "# Try out decision tree\n",
    "from  sklearn.tree import DecisionTreeClassifier\n",
    "\n",
    "dtc_clf = DecisionTreeClassifier(random_state=42)\n",
    "dtc_clf.fit(X_train_down, y_train_down)"
   ]
  },
  {
   "cell_type": "code",
   "execution_count": 195,
   "id": "706f3067",
   "metadata": {},
   "outputs": [],
   "source": [
    "#Evaluate on training and test set\n",
    "dtc_pred_test = dtc_clf.predict(X_test)\n",
    "dtc_pred_train = dtc_clf.predict(X_train_down)\n",
    "\n",
    "#Evaluate accuracy\n",
    "dtc_train_accuracy = accuracy_score(y_train_down,dtc_pred_train)\n",
    "dtc_test_accuracy = accuracy_score(y_test,dtc_pred_test)"
   ]
  },
  {
   "cell_type": "code",
   "execution_count": 196,
   "id": "6376e642",
   "metadata": {},
   "outputs": [
    {
     "name": "stdout",
     "output_type": "stream",
     "text": [
      "Decision tree accuracy on the training set: 1.0\n",
      "Decision tree accuracy on the test set: 0.7179148460522304\n"
     ]
    }
   ],
   "source": [
    "print(f\"Decision tree accuracy on the training set: {dtc_train_accuracy}\")\n",
    "print(f\"Decision tree accuracy on the test set: {dtc_test_accuracy}\")"
   ]
  },
  {
   "cell_type": "code",
   "execution_count": 197,
   "id": "ee2d513d",
   "metadata": {},
   "outputs": [
    {
     "data": {
      "text/html": [
       "<style>#sk-container-id-5 {color: black;}#sk-container-id-5 pre{padding: 0;}#sk-container-id-5 div.sk-toggleable {background-color: white;}#sk-container-id-5 label.sk-toggleable__label {cursor: pointer;display: block;width: 100%;margin-bottom: 0;padding: 0.3em;box-sizing: border-box;text-align: center;}#sk-container-id-5 label.sk-toggleable__label-arrow:before {content: \"▸\";float: left;margin-right: 0.25em;color: #696969;}#sk-container-id-5 label.sk-toggleable__label-arrow:hover:before {color: black;}#sk-container-id-5 div.sk-estimator:hover label.sk-toggleable__label-arrow:before {color: black;}#sk-container-id-5 div.sk-toggleable__content {max-height: 0;max-width: 0;overflow: hidden;text-align: left;background-color: #f0f8ff;}#sk-container-id-5 div.sk-toggleable__content pre {margin: 0.2em;color: black;border-radius: 0.25em;background-color: #f0f8ff;}#sk-container-id-5 input.sk-toggleable__control:checked~div.sk-toggleable__content {max-height: 200px;max-width: 100%;overflow: auto;}#sk-container-id-5 input.sk-toggleable__control:checked~label.sk-toggleable__label-arrow:before {content: \"▾\";}#sk-container-id-5 div.sk-estimator input.sk-toggleable__control:checked~label.sk-toggleable__label {background-color: #d4ebff;}#sk-container-id-5 div.sk-label input.sk-toggleable__control:checked~label.sk-toggleable__label {background-color: #d4ebff;}#sk-container-id-5 input.sk-hidden--visually {border: 0;clip: rect(1px 1px 1px 1px);clip: rect(1px, 1px, 1px, 1px);height: 1px;margin: -1px;overflow: hidden;padding: 0;position: absolute;width: 1px;}#sk-container-id-5 div.sk-estimator {font-family: monospace;background-color: #f0f8ff;border: 1px dotted black;border-radius: 0.25em;box-sizing: border-box;margin-bottom: 0.5em;}#sk-container-id-5 div.sk-estimator:hover {background-color: #d4ebff;}#sk-container-id-5 div.sk-parallel-item::after {content: \"\";width: 100%;border-bottom: 1px solid gray;flex-grow: 1;}#sk-container-id-5 div.sk-label:hover label.sk-toggleable__label {background-color: #d4ebff;}#sk-container-id-5 div.sk-serial::before {content: \"\";position: absolute;border-left: 1px solid gray;box-sizing: border-box;top: 0;bottom: 0;left: 50%;z-index: 0;}#sk-container-id-5 div.sk-serial {display: flex;flex-direction: column;align-items: center;background-color: white;padding-right: 0.2em;padding-left: 0.2em;position: relative;}#sk-container-id-5 div.sk-item {position: relative;z-index: 1;}#sk-container-id-5 div.sk-parallel {display: flex;align-items: stretch;justify-content: center;background-color: white;position: relative;}#sk-container-id-5 div.sk-item::before, #sk-container-id-5 div.sk-parallel-item::before {content: \"\";position: absolute;border-left: 1px solid gray;box-sizing: border-box;top: 0;bottom: 0;left: 50%;z-index: -1;}#sk-container-id-5 div.sk-parallel-item {display: flex;flex-direction: column;z-index: 1;position: relative;background-color: white;}#sk-container-id-5 div.sk-parallel-item:first-child::after {align-self: flex-end;width: 50%;}#sk-container-id-5 div.sk-parallel-item:last-child::after {align-self: flex-start;width: 50%;}#sk-container-id-5 div.sk-parallel-item:only-child::after {width: 0;}#sk-container-id-5 div.sk-dashed-wrapped {border: 1px dashed gray;margin: 0 0.4em 0.5em 0.4em;box-sizing: border-box;padding-bottom: 0.4em;background-color: white;}#sk-container-id-5 div.sk-label label {font-family: monospace;font-weight: bold;display: inline-block;line-height: 1.2em;}#sk-container-id-5 div.sk-label-container {text-align: center;}#sk-container-id-5 div.sk-container {/* jupyter's `normalize.less` sets `[hidden] { display: none; }` but bootstrap.min.css set `[hidden] { display: none !important; }` so we also need the `!important` here to be able to override the default hidden behavior on the sphinx rendered scikit-learn.org. See: https://github.com/scikit-learn/scikit-learn/issues/21755 */display: inline-block !important;position: relative;}#sk-container-id-5 div.sk-text-repr-fallback {display: none;}</style><div id=\"sk-container-id-5\" class=\"sk-top-container\"><div class=\"sk-text-repr-fallback\"><pre>LinearDiscriminantAnalysis()</pre><b>In a Jupyter environment, please rerun this cell to show the HTML representation or trust the notebook. <br />On GitHub, the HTML representation is unable to render, please try loading this page with nbviewer.org.</b></div><div class=\"sk-container\" hidden><div class=\"sk-item\"><div class=\"sk-estimator sk-toggleable\"><input class=\"sk-toggleable__control sk-hidden--visually\" id=\"sk-estimator-id-5\" type=\"checkbox\" checked><label for=\"sk-estimator-id-5\" class=\"sk-toggleable__label sk-toggleable__label-arrow\">LinearDiscriminantAnalysis</label><div class=\"sk-toggleable__content\"><pre>LinearDiscriminantAnalysis()</pre></div></div></div></div></div>"
      ],
      "text/plain": [
       "LinearDiscriminantAnalysis()"
      ]
     },
     "execution_count": 197,
     "metadata": {},
     "output_type": "execute_result"
    }
   ],
   "source": [
    "# Try linear discriminant\n",
    "from sklearn.discriminant_analysis import LinearDiscriminantAnalysis\n",
    "\n",
    "lda_clf = LinearDiscriminantAnalysis()\n",
    "lda_clf.fit(X_train_down,y_train_down)"
   ]
  },
  {
   "cell_type": "code",
   "execution_count": 198,
   "id": "a2777e9f",
   "metadata": {},
   "outputs": [],
   "source": [
    "#Evaluate on training and test set\n",
    "lda_pred_test = lda_clf.predict(X_test)\n",
    "lda_pred_train = lda_clf.predict(X_train_down)\n",
    "\n",
    "#Evaluate accuracy\n",
    "lda_train_accuracy = accuracy_score(y_train_down,lda_pred_train)\n",
    "lda_test_accuracy = accuracy_score(y_test,lda_pred_test)"
   ]
  },
  {
   "cell_type": "code",
   "execution_count": 199,
   "id": "561119c4",
   "metadata": {},
   "outputs": [
    {
     "name": "stdout",
     "output_type": "stream",
     "text": [
      "Linear discriminant accuracy on the training set: 0.804545033786911\n",
      "Linear discriminant accuracy on the test set: 0.841215323645971\n"
     ]
    }
   ],
   "source": [
    "print(f\"Linear discriminant accuracy on the training set: {lda_train_accuracy}\")\n",
    "print(f\"Linear discriminant accuracy on the test set: {lda_test_accuracy}\")"
   ]
  },
  {
   "cell_type": "markdown",
   "id": "cc52e858",
   "metadata": {},
   "source": [
    "From the different models above, we can see the KNN and LDA models performed best."
   ]
  },
  {
   "cell_type": "code",
   "execution_count": 203,
   "id": "3ef9be4f",
   "metadata": {},
   "outputs": [],
   "source": [
    "# Find most important features\n",
    "from sklearn.inspection import permutation_importance\n",
    "\n",
    "# Array containing model classifiers\n",
    "clfs = [knn_clf,svm_clf, dtc_clf, lda_clf]\n",
    "\n",
    "# Array to hold feature indices\n",
    "feature_index = []"
   ]
  },
  {
   "cell_type": "code",
   "execution_count": 204,
   "id": "ce14ce6f",
   "metadata": {},
   "outputs": [],
   "source": [
    "import heapq"
   ]
  },
  {
   "cell_type": "code",
   "execution_count": 205,
   "id": "7b1ab665",
   "metadata": {},
   "outputs": [],
   "source": [
    "# Function to determine 5 most important features of each model\n",
    "\n",
    "def get_feature_importance(clf):\n",
    "    importance_train = list(permutation_importance(clf,X_train_down,y_train_down,random_state=0).importances_mean)\n",
    "    train_index = heapq.nlargest(5,range(len(importance_train)),key=importance_train.__getitem__)\n",
    "    feature_index.extend([train_index])"
   ]
  },
  {
   "cell_type": "code",
   "execution_count": 206,
   "id": "f607e175",
   "metadata": {},
   "outputs": [],
   "source": [
    "# Determine the important features for every model classifier\n",
    "for clf in clfs:\n",
    "    get_feature_importance(clf)"
   ]
  },
  {
   "cell_type": "code",
   "execution_count": 207,
   "id": "5343032b",
   "metadata": {},
   "outputs": [
    {
     "data": {
      "text/plain": [
       "[[48, 49, 63, 39, 32],\n",
       " [48, 49, 41, 61, 62],\n",
       " [48, 63, 33, 56, 43],\n",
       " [48, 43, 63, 16, 49]]"
      ]
     },
     "execution_count": 207,
     "metadata": {},
     "output_type": "execute_result"
    }
   ],
   "source": [
    "feature_index"
   ]
  },
  {
   "cell_type": "code",
   "execution_count": 289,
   "id": "6e340dc6",
   "metadata": {},
   "outputs": [
    {
     "data": {
      "text/plain": [
       "Index(['State', 'Sex', 'GeneralHealth', 'PhysicalHealthDays',\n",
       "       'MentalHealthDays', 'LastCheckupTime', 'PhysicalActivities',\n",
       "       'SleepHours', 'RemovedTeeth', 'HadHeartAttack', 'HadAngina',\n",
       "       'HadStroke', 'HadAsthma', 'HadSkinCancer', 'HadCOPD',\n",
       "       'HadDepressiveDisorder', 'HadKidneyDisease', 'HadArthritis',\n",
       "       'HadDiabetes', 'DeafOrHardOfHearing', 'BlindOrVisionDifficulty',\n",
       "       'DifficultyConcentrating', 'DifficultyWalking',\n",
       "       'DifficultyDressingBathing', 'DifficultyErrands', 'SmokerStatus',\n",
       "       'ECigaretteUsage', 'ChestScan', 'RaceEthnicityCategory', 'AgeCategory',\n",
       "       'HeightInMeters', 'WeightInKilograms', 'BMI', 'AlcoholDrinkers',\n",
       "       'HIVTesting', 'FluVaxLast12', 'PneumoVaxEver', 'TetanusLast10Tdap',\n",
       "       'HighRiskLastYear', 'CovidPos'],\n",
       "      dtype='object')"
      ]
     },
     "execution_count": 289,
     "metadata": {},
     "output_type": "execute_result"
    }
   ],
   "source": [
    "# determine associated features\n",
    "\n",
    "columns = []\n",
    "df_columns = df.columns\n",
    "df_columns"
   ]
  },
  {
   "cell_type": "code",
   "execution_count": 290,
   "id": "3dae8a8e",
   "metadata": {},
   "outputs": [],
   "source": [
    "# Fill in encoded columns first\n",
    "columns.extend(df_columns[37] for i in range(0,4))\n",
    "columns.extend(df_columns[29] for i in range(4,17))\n",
    "columns.extend(df_columns[28] for i in range(17,22))\n",
    "columns.extend(df_columns[26] for i in range(22,26))\n",
    "columns.extend(df_columns[25] for i in range(26,30))\n",
    "columns.extend(df_columns[8] for i in range(30,34))\n",
    "columns.extend(df_columns[5] for i in range(34,38))\n",
    "columns.extend(df_columns[2] for i in range(38,43))"
   ]
  },
  {
   "cell_type": "code",
   "execution_count": 291,
   "id": "6717457a",
   "metadata": {},
   "outputs": [],
   "source": [
    "# Add feature names to each column\n",
    "cols_to_ignore = [2,5,8,9,25,26,28,29,37] # Cols that were already added as they were one hot encoded\n",
    "\n",
    "for df_i in range(1,len(df_columns)):\n",
    "    if not cols_to_ignore:\n",
    "        columns.append(df_columns[df_i])\n",
    "        \n",
    "    elif df_i==cols_to_ignore[0]:\n",
    "        cols_to_ignore.pop(0)\n",
    "    else:\n",
    "        columns.append(df_columns[df_i])"
   ]
  },
  {
   "cell_type": "code",
   "execution_count": 296,
   "id": "b6005e64",
   "metadata": {},
   "outputs": [],
   "source": [
    "features=[]"
   ]
  },
  {
   "cell_type": "code",
   "execution_count": 301,
   "id": "8a843ae7",
   "metadata": {},
   "outputs": [],
   "source": [
    "# Find the associated feature with the feature index\n",
    "for i in range(len(feature_index)):\n",
    "    for j in range(len(feature_index[0])):\n",
    "        features.append(columns[feature_index[i][j]])"
   ]
  },
  {
   "cell_type": "code",
   "execution_count": 303,
   "id": "d38c95c7",
   "metadata": {},
   "outputs": [],
   "source": [
    "features=np.reshape(features,(4,5))"
   ]
  },
  {
   "cell_type": "code",
   "execution_count": 306,
   "id": "f98e3bf3",
   "metadata": {},
   "outputs": [
    {
     "name": "stdout",
     "output_type": "stream",
     "text": [
      "KNN Model Features: ['HadAngina' 'HadStroke' 'ChestScan' 'GeneralHealth' 'RemovedTeeth']\n",
      "SVM Model Features: ['HadAngina' 'HadStroke' 'GeneralHealth' 'DifficultyDressingBathing'\n",
      " 'DifficultyErrands']\n",
      "DTC Model Features: ['HadAngina' 'ChestScan' 'RemovedTeeth' 'HadDiabetes' 'Sex']\n",
      "LDA Model Features: ['HadAngina' 'Sex' 'ChestScan' 'AgeCategory' 'HadStroke']\n"
     ]
    }
   ],
   "source": [
    "# Print out most important features for each model\n",
    "print(f\"KNN Model Features: {features[0]}\")\n",
    "print(f\"SVM Model Features: {features[1]}\")\n",
    "print(f\"DTC Model Features: {features[2]}\")\n",
    "print(f\"LDA Model Features: {features[3]}\")"
   ]
  }
 ],
 "metadata": {
  "kernelspec": {
   "display_name": "Python 3 (ipykernel)",
   "language": "python",
   "name": "python3"
  },
  "language_info": {
   "codemirror_mode": {
    "name": "ipython",
    "version": 3
   },
   "file_extension": ".py",
   "mimetype": "text/x-python",
   "name": "python",
   "nbconvert_exporter": "python",
   "pygments_lexer": "ipython3",
   "version": "3.9.18"
  }
 },
 "nbformat": 4,
 "nbformat_minor": 5
}
